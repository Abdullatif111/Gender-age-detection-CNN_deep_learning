{
 "cells": [
  {
   "cell_type": "code",
   "execution_count": 1,
   "id": "1a135a7f",
   "metadata": {},
   "outputs": [],
   "source": [
    "import cv2\n",
    "import numpy as np\n",
    "import os\n",
    "from tensorflow.keras.models import load_model\n",
    "import numpy as np\n",
    "import cvlib as cv\n",
    "from keras.preprocessing.image import img_to_array"
   ]
  },
  {
   "cell_type": "code",
   "execution_count": 70,
   "id": "bd825009",
   "metadata": {},
   "outputs": [],
   "source": [
    "model1 = load_model('D:/YL/Deep learning/gender_detection.model')\n",
    "model2 = load_model('D:/YL/Deep learning/age_detection.model')"
   ]
  },
  {
   "cell_type": "code",
   "execution_count": 73,
   "id": "705f0cda",
   "metadata": {},
   "outputs": [
    {
     "name": "stdout",
     "output_type": "stream",
     "text": [
      "0.04097356\n",
      "0.95902646\n",
      "1\n",
      "Female\n",
      "//\\\\\n",
      "1.0947882e-15\n",
      "6.2289615e-20\n",
      "2.8656995e-19\n",
      "3.7799446e-20\n",
      "6.121232e-12\n",
      "1.0\n",
      "5\n",
      "61+ years\n",
      "//\\\\\n"
     ]
    }
   ],
   "source": [
    "classes1 = ['Male','Female']\n",
    "classes2 = ['1-13 years','14-18 years','19-24 years','25-40 years','41-60 years','61+ years']\n",
    "\n",
    "img = cv2.imread('D:/old woman.jpg') \n",
    "img = cv2.resize(img, (600, 600)) \n",
    "# apply face detection\n",
    "face, confidence = cv.detect_face(img)\n",
    "\n",
    "for idx, f in enumerate(face):\n",
    "    # get corner points of face rectangle        \n",
    "    (startX, startY) = f[0], f[1]\n",
    "    (endX, endY) = f[2], f[3]\n",
    "\n",
    "    # draw rectangle over face\n",
    "    cv2.rectangle(img, (startX,startY), (endX,endY), (0,255,0), 2)\n",
    "\n",
    "    # crop the detected face region\n",
    "    face_crop = np.copy(img[startY:endY,startX:endX])\n",
    "\n",
    "\n",
    "    # preprocessing of data for the model\n",
    "    face_crop = cv2.resize(face_crop, (50,50))\n",
    "    face_crop = face_crop.astype(\"float\") / 255.0\n",
    "    face_crop = img_to_array(face_crop)\n",
    "    face_crop = np.expand_dims(face_crop, axis=0)\n",
    "    \n",
    "    # apply gender detection on face\n",
    "    # apply age detection on face\n",
    "    cf = model1.predict(face_crop)[0] # model1.predict return a 2D matrix\n",
    "    cg = model2.predict(face_crop)[0] # model2.predict return a 2D matrix\n",
    "    for i in cf:\n",
    "        print (\"%.8f\" % (i))\n",
    "    idx = np.argmax(cf)  #argmax get index of max value in cf [1.0,0.002]\n",
    "    print(idx)\n",
    "    label = classes1[idx]\n",
    "    print(label)\n",
    "    print('//\\\\\\\\')\n",
    "    label = \"{}: {:.2f}%\".format(label, cf[idx] * 100)\n",
    "\n",
    "    Y = startY - 10 if startY - 10 > 10 else startY + 10\n",
    "\n",
    "        # write label and confidence above face rectangle\n",
    "    cv2.putText(img, label, (startX, Y),  cv2.FONT_HERSHEY_SIMPLEX,\n",
    "                0.7, (0, 255, 0), 2)\n",
    "    for j in cg:\n",
    "        print (j)\n",
    "    idx = np.argmax(cg)  #argmax get index of max value in cf [1.0,0.002]\n",
    "    print(idx)\n",
    "    label = classes2[idx]\n",
    "    print(label)\n",
    "    print('//\\\\\\\\')\n",
    "    label = \"{}: {:.2f}%\".format(label, cg[idx] * 100)\n",
    "\n",
    "    Y = startY - 35 if startY - 35 > 35 else startY + 35\n",
    "\n",
    "        # write label and confidence above face rectangle\n",
    "    cv2.putText(img, label, (startX, Y),  cv2.FONT_HERSHEY_SIMPLEX,\n",
    "                0.7, (2, 255, 2), 2)\n",
    "\n",
    "    # display output\n",
    "cv2.imshow(\"GenderAndAgeDetection\", img)\n",
    "cv2.imwrite('D:\\\\afterDetect_3.jpg', img)\n",
    "cv2.waitKey(0)\n",
    "cv2.destroyAllWindows()"
   ]
  },
  {
   "cell_type": "code",
   "execution_count": null,
   "id": "70de1f87",
   "metadata": {},
   "outputs": [],
   "source": []
  }
 ],
 "metadata": {
  "kernelspec": {
   "display_name": "Python 3 (ipykernel)",
   "language": "python",
   "name": "python3"
  },
  "language_info": {
   "codemirror_mode": {
    "name": "ipython",
    "version": 3
   },
   "file_extension": ".py",
   "mimetype": "text/x-python",
   "name": "python",
   "nbconvert_exporter": "python",
   "pygments_lexer": "ipython3",
   "version": "3.8.11"
  }
 },
 "nbformat": 4,
 "nbformat_minor": 5
}
